{
 "cells": [
  {
   "cell_type": "code",
   "execution_count": null,
   "metadata": {},
   "outputs": [],
   "source": [
    "import pandas as pd\n",
    "from sqlalchemy import create_engine"
   ]
  },
  {
   "cell_type": "code",
   "execution_count": null,
   "metadata": {},
   "outputs": [],
   "source": [
    "Texas_locational_file = \"../ETL-Project/CSV's/area_context_texas.csv\"\n",
    "Texas_locational_df = pd.read_csv(Texas_locational_file)\n",
    "Texas_locational_df.head()"
   ]
  },
  {
   "cell_type": "code",
   "execution_count": null,
   "metadata": {},
   "outputs": [],
   "source": [
    "# Create a filtered dataframe from specific columns\n",
    "Texas_locational_cols=[\"zipcode\", \"Median Household Income\", \"Population\",]\n",
    "Texas_locational_refined= Texas_locational_df[Texas_locational_cols].copy()\n",
    "\n",
    "# Rename the column headers\n",
    "Texas_locational_refined = Texas_locational_refined.rename(columns={\"zipcode\": \"Zipcode\",\n",
    "                                                          \"Median Household Income\": \"Median Income\",\n",
    "                                                          \"Population\": \"population\"})\n",
    "\n",
    "# Clean the data by dropping duplicates and setting the index\n",
    "Texas_locational_refined.drop_duplicates(\"Zipcode\", inplace=True)\n",
    "Texas_locational_refined.set_index(\"Zipcode\", inplace=True)\n",
    "\n",
    "Texas_locational_refined.head()"
   ]
  },
  {
   "cell_type": "code",
   "execution_count": null,
   "metadata": {},
   "outputs": [],
   "source": [
    "Texas_locational_refined = Texas_locational_refined.reset_index(drop=False)\n",
    "Texas_locational_refined"
   ]
  },
  {
   "cell_type": "code",
   "execution_count": null,
   "metadata": {},
   "outputs": [],
   "source": [
    "HAR_file=\"../ETL-Project/CSV's/HAR.csv\"\n",
    "HAR_df= pd.read_csv(HAR_file)\n",
    "HAR_df.head()"
   ]
  },
  {
   "cell_type": "code",
   "execution_count": null,
   "metadata": {},
   "outputs": [],
   "source": [
    "HAR_cols=[\"Price\", \"Street\", \"Zip Code\", \"City\"]\n",
    "HAR_refined= HAR_df[HAR_cols].copy()\n",
    "HAR_refined.head()"
   ]
  },
  {
   "cell_type": "code",
   "execution_count": null,
   "metadata": {},
   "outputs": [],
   "source": [
    "rds_connection_string = \"jon:postgres@localhost:5432/Texas_locational_db\"\n",
    "engine = create_engine(f'postgresql://{rds_connection_string}')"
   ]
  },
  {
   "cell_type": "code",
   "execution_count": null,
   "metadata": {},
   "outputs": [],
   "source": [
    "table_names = engine.table_names()\n",
    "table_names"
   ]
  },
  {
   "cell_type": "code",
   "execution_count": null,
   "metadata": {},
   "outputs": [],
   "source": [
    "# Check if texas_regional_info is in tables\n",
    "if 'texas_regional_info' in table_names:\n",
    "   # Get Existing Restaurants\n",
    "   existing_regional_info = pd.read_sql_query('select * from texas_regional_info', con=engine)\n",
    "   # Only Add Restaurants Not in Existing\n",
    "   add_existing_regional_info = Texas_locational_refined.loc[~Texas_locational_refined['Zipcode'].isin(existing_regional_info['Zipcode'])].copy()\n",
    "   # Add Restaurants\n",
    "   add_existing_regional_info.to_sql(name='texas_regional_info', con=engine, if_exists='append', index=False)\n",
    "# If Not in Tables, Add to Tables\n",
    "else:\n",
    "   Texas_locational_refined.to_sql(name='texas_regional_info', con=engine, if_exists='append', index=False)\n",
    "\n",
    "#Texas_locational_refined.to_sql(name='texas_regional_info', con=engine, if_exists='append', index=True)"
   ]
  },
  {
   "cell_type": "code",
   "execution_count": null,
   "metadata": {},
   "outputs": [],
   "source": [
    "pd.read_sql_query(f'select * from {table_names[0]}', con=engine).head()"
   ]
  },
  {
   "cell_type": "code",
   "execution_count": null,
   "metadata": {},
   "outputs": [],
   "source": []
  }
 ],
 "metadata": {
  "kernelspec": {
   "display_name": "Python 3",
   "language": "python",
   "name": "python3"
  },
  "language_info": {
   "codemirror_mode": {
    "name": "ipython",
    "version": 3
   },
   "file_extension": ".py",
   "mimetype": "text/x-python",
   "name": "python",
   "nbconvert_exporter": "python",
   "pygments_lexer": "ipython3",
   "version": "3.7.3"
  }
 },
 "nbformat": 4,
 "nbformat_minor": 4
}
