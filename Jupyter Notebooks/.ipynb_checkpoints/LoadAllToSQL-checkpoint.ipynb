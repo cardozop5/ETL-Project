{
 "cells": [
  {
   "cell_type": "code",
   "execution_count": 59,
   "metadata": {},
   "outputs": [],
   "source": [
    "# Dependencies\n",
    "import pandas as pd\n",
    "from sqlalchemy import create_engine"
   ]
  },
  {
   "cell_type": "code",
   "execution_count": 60,
   "metadata": {},
   "outputs": [
    {
     "data": {
      "text/plain": [
       "['zip_codes',\n",
       " 'house_prices',\n",
       " 'texas_population_income',\n",
       " 'yelp_houston_restaurants']"
      ]
     },
     "execution_count": 60,
     "metadata": {},
     "output_type": "execute_result"
    }
   ],
   "source": [
    "# Connect to Database\n",
    "# Connect to DB\n",
    "rds_connection_string = 'wen:12345@localhost:5432/best_etl_project'\n",
    "engine = create_engine(f'postgresql://{rds_connection_string}')\n",
    "\n",
    "# Get Table Names\n",
    "table_names = engine.table_names()\n",
    "table_names"
   ]
  },
  {
   "cell_type": "code",
   "execution_count": 61,
   "metadata": {},
   "outputs": [
    {
     "name": "stdout",
     "output_type": "stream",
     "text": [
      "<class 'pandas.core.frame.DataFrame'>\n",
      "RangeIndex: 41335 entries, 0 to 41334\n",
      "Data columns (total 3 columns):\n",
      "zip_code    41335 non-null int64\n",
      "city        41335 non-null object\n",
      "state       41335 non-null object\n",
      "dtypes: int64(1), object(2)\n",
      "memory usage: 968.9+ KB\n",
      "None\n"
     ]
    }
   ],
   "source": [
    "# Get Primary Key for Zip Codes\n",
    "zip_path = '../Raw Data/ZipCodes.csv'\n",
    "zip_codes = pd.read_csv(zip_path)\n",
    "print(zip_codes.info())"
   ]
  },
  {
   "cell_type": "code",
   "execution_count": 62,
   "metadata": {},
   "outputs": [
    {
     "name": "stdout",
     "output_type": "stream",
     "text": [
      "Done\n"
     ]
    }
   ],
   "source": [
    "# Push to Database\n",
    "\n",
    "# Check if is in tables\n",
    "if 'zip_codes' in table_names:\n",
    "    # Get Existing\n",
    "    zips_existing = pd.read_sql_query('select * from zip_codes', con=engine)\n",
    "    # Only Add Not in Existing\n",
    "    add_zips = zip_codes.loc[~zip_codes['zip_code'].isin(zips_existing['zip_code'])].copy()\n",
    "    # Add\n",
    "    add_zips.to_sql(name='zip_codes', con=engine, if_exists='append', index=False)\n",
    "    print('Done')\n",
    "# If Not in Tables, Add to Tables    \n",
    "else:\n",
    "    zip_codes.to_sql(name='zip_codes', con=engine, if_exists='append', index=False)\n",
    "    print('Done')"
   ]
  },
  {
   "cell_type": "code",
   "execution_count": 79,
   "metadata": {
    "scrolled": true
   },
   "outputs": [
    {
     "name": "stdout",
     "output_type": "stream",
     "text": [
      "<class 'pandas.core.frame.DataFrame'>\n",
      "Int64Index: 7129 entries, 0 to 7138\n",
      "Data columns (total 6 columns):\n",
      "alias           7129 non-null object\n",
      "name            7129 non-null object\n",
      "price           5641 non-null object\n",
      "rating          7129 non-null int32\n",
      "review_count    7129 non-null int64\n",
      "zip_code        7129 non-null int32\n",
      "dtypes: int32(2), int64(1), object(3)\n",
      "memory usage: 334.2+ KB\n",
      "None\n"
     ]
    }
   ],
   "source": [
    "# Update Restaurants\n",
    "restaurants = pd.read_pickle('restaurants.pkl')\n",
    "restaurants = restaurants.loc[restaurants['zip_code'] != '']\n",
    "restaurants['zip_code'] = restaurants['zip_code'].astype(int)\n",
    "restaurants['rating'] = restaurants['rating'].astype(int)\n",
    "\n",
    "# Drop if No Zip Code\n",
    "restaurants = restaurants.loc[restaurants['zip_code'].notna()]"
   ]
  },
  {
   "cell_type": "code",
   "execution_count": 80,
   "metadata": {},
   "outputs": [
    {
     "name": "stdout",
     "output_type": "stream",
     "text": [
      "Done-good\n"
     ]
    }
   ],
   "source": [
    "# Push to Database\n",
    "\n",
    "# Check if is in tables\n",
    "if 'yelp_houston_restaurants' in table_names:\n",
    "    # Get Existing\n",
    "    restaurants_existing = pd.read_sql_query('select * from yelp_houston_restaurants', con=engine)\n",
    "    # Only Add Not in Existing\n",
    "    add_restaurants = restaurants.loc[~restaurants['alias'].isin(restaurants_existing['alias'])].copy()\n",
    "    # Add\n",
    "    add_restaurants.to_sql(name='yelp_houston_restaurants', con=engine, if_exists='append', index=False)\n",
    "    print('Done')\n",
    "# If Not in Tables, Add to Tables    \n",
    "else:\n",
    "    restaurants.to_sql(name='yelp_houston_restaurants', con=engine, if_exists='append', index=False)\n",
    "    print('Done')"
   ]
  },
  {
   "cell_type": "code",
   "execution_count": 89,
   "metadata": {
    "scrolled": true
   },
   "outputs": [
    {
     "name": "stdout",
     "output_type": "stream",
     "text": [
      "<class 'pandas.core.frame.DataFrame'>\n",
      "RangeIndex: 2408 entries, 0 to 2407\n",
      "Data columns (total 3 columns):\n",
      "zip_code         2408 non-null int64\n",
      "median_income    2408 non-null int64\n",
      "population       2408 non-null int64\n",
      "dtypes: int64(3)\n",
      "memory usage: 56.5 KB\n"
     ]
    }
   ],
   "source": [
    "# Update Income and Population\n",
    "path_inc = '../clean_data.csv'\n",
    "income_population = pd.read_csv(path_inc)\n",
    "income_population.rename(columns = {'Zipcode':'zip_code','Median Income':'median_income'}, inplace = True) "
   ]
  },
  {
   "cell_type": "code",
   "execution_count": 90,
   "metadata": {
    "scrolled": true
   },
   "outputs": [
    {
     "name": "stdout",
     "output_type": "stream",
     "text": [
      "Done\n"
     ]
    }
   ],
   "source": [
    "# Push to Database\n",
    "\n",
    "# Check if is in tables\n",
    "if 'texas_population_income' in table_names:\n",
    "    # Get Existing\n",
    "    income_population_existing = pd.read_sql_query('select * from texas_population_income', con=engine)\n",
    "    # Only Add Not in Existing\n",
    "    add_income_pop = income_population.loc[~income_population['zip_code'].isin(income_population_existing['zip_code'])].copy()\n",
    "    # Add\n",
    "    add_income_pop.to_sql(name='texas_population_income', con=engine, if_exists='append', index=False)\n",
    "    print('Done')\n",
    "# If Not in Tables, Add to Tables    \n",
    "else:\n",
    "    add_income_pop.to_sql(name='texas_population_income', con=engine, if_exists='append', index=False)\n",
    "    print('Done')"
   ]
  },
  {
   "cell_type": "code",
   "execution_count": 111,
   "metadata": {},
   "outputs": [
    {
     "name": "stdout",
     "output_type": "stream",
     "text": [
      "<class 'pandas.core.frame.DataFrame'>\n",
      "RangeIndex: 223 entries, 0 to 222\n",
      "Data columns (total 4 columns):\n",
      "Price       223 non-null int32\n",
      "Street      223 non-null object\n",
      "Zip Code    223 non-null int64\n",
      "City        223 non-null object\n",
      "dtypes: int32(1), int64(1), object(2)\n",
      "memory usage: 6.2+ KB\n"
     ]
    }
   ],
   "source": [
    "# Get House Prices\n",
    "path_house = '../HAR_clean_data.csv'\n",
    "house_prices = pd.read_csv(path_house)\n",
    "house_prices['Price'] = (house_prices['Price'].replace( '[\\$,)]','', regex=True )\n",
    "               .replace( '[(]','-',   regex=True ).astype(int))\n",
    "house_prices.info()"
   ]
  },
  {
   "cell_type": "code",
   "execution_count": 112,
   "metadata": {},
   "outputs": [],
   "source": [
    "# Rename\n",
    "house_prices.rename(columns = {'Zip Code':'zip_code','Street':'street','Price':'price','City':'city'}, inplace = True) "
   ]
  },
  {
   "cell_type": "code",
   "execution_count": 117,
   "metadata": {
    "scrolled": true
   },
   "outputs": [
    {
     "name": "stdout",
     "output_type": "stream",
     "text": [
      "Done\n"
     ]
    }
   ],
   "source": [
    "# Check if is in tables\n",
    "if 'house_prices' in table_names:\n",
    "    # Get Existing\n",
    "    houses_existing = pd.read_sql_query('select * from house_prices', con=engine)\n",
    "    # Only Add Not in Existing\n",
    "    houses_add = house_prices.loc[~house_prices['street'].isin(houses_existing['street'])].copy()\n",
    "    # Add\n",
    "    houses_add.to_sql(name='house_prices', con=engine, if_exists='append', index=False)\n",
    "    print('Done')\n",
    "# If Not in Tables, Add to Tables    \n",
    "else:\n",
    "    house_prices.to_sql(name='house_prices', con=engine, if_exists='append', index=False)\n",
    "    print('Done')"
   ]
  },
  {
   "cell_type": "code",
   "execution_count": null,
   "metadata": {},
   "outputs": [],
   "source": []
  },
  {
   "cell_type": "code",
   "execution_count": null,
   "metadata": {},
   "outputs": [],
   "source": []
  }
 ],
 "metadata": {
  "kernelspec": {
   "display_name": "Python 3",
   "language": "python",
   "name": "python3"
  },
  "language_info": {
   "codemirror_mode": {
    "name": "ipython",
    "version": 3
   },
   "file_extension": ".py",
   "mimetype": "text/x-python",
   "name": "python",
   "nbconvert_exporter": "python",
   "pygments_lexer": "ipython3",
   "version": "3.7.3"
  }
 },
 "nbformat": 4,
 "nbformat_minor": 2
}
