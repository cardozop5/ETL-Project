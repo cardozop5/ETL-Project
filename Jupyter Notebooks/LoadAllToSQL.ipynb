{
 "cells": [
  {
   "cell_type": "code",
   "execution_count": 48,
   "metadata": {},
   "outputs": [],
   "source": [
    "# Dependencies\n",
    "import pandas as pd\n",
    "from sqlalchemy import create_engine"
   ]
  },
  {
   "cell_type": "code",
   "execution_count": 49,
   "metadata": {},
   "outputs": [
    {
     "data": {
      "text/plain": [
       "['zip_codes',\n",
       " 'texas_population_income',\n",
       " 'yelp_houston_restaurants',\n",
       " 'house_prices']"
      ]
     },
     "execution_count": 49,
     "metadata": {},
     "output_type": "execute_result"
    }
   ],
   "source": [
    "# Connect to Database\n",
    "# Connect to DB\n",
    "rds_connection_string = 'wen:12345@localhost:5432/best_etl_project'\n",
    "engine = create_engine(f'postgresql://{rds_connection_string}')\n",
    "\n",
    "# Get Table Names\n",
    "table_names = engine.table_names()\n",
    "table_names"
   ]
  },
  {
   "cell_type": "code",
   "execution_count": 50,
   "metadata": {},
   "outputs": [
    {
     "name": "stdout",
     "output_type": "stream",
     "text": [
      "<class 'pandas.core.frame.DataFrame'>\n",
      "RangeIndex: 41335 entries, 0 to 41334\n",
      "Data columns (total 3 columns):\n",
      "zip_code    41335 non-null int64\n",
      "city        41335 non-null object\n",
      "state       41335 non-null object\n",
      "dtypes: int64(1), object(2)\n",
      "memory usage: 968.9+ KB\n",
      "None\n"
     ]
    }
   ],
   "source": [
    "# Get Primary Key for Zip Codes\n",
    "zip_path = '../Raw Data/ZipCodes.csv'\n",
    "zip_codes = pd.read_csv(zip_path)\n",
    "print(zip_codes.info())"
   ]
  },
  {
   "cell_type": "code",
   "execution_count": 51,
   "metadata": {},
   "outputs": [],
   "source": [
    "# Push to Database\n",
    "\n",
    "# Check if is in tables\n",
    "if 'zip_codes' in table_names:\n",
    "    # Get Existing\n",
    "    zips_existing = pd.read_sql_query('select * from zip_codes', con=engine)\n",
    "    # Only Add Not in Existing\n",
    "    add_zips = zip_codes.loc[~zip_codes['zip_code'].isin(zips_existing['zip_code'])].copy()\n",
    "    # Add\n",
    "    add_zips.to_sql(name='zip_codes', con=engine, if_exists='append', index=False)\n",
    "# If Not in Tables, Add to Tables    \n",
    "else:\n",
    "    zip_codes.to_sql(name='zip_codes', con=engine, if_exists='append', index=False)\n",
    "    print('Done')"
   ]
  },
  {
   "cell_type": "code",
   "execution_count": 45,
   "metadata": {},
   "outputs": [
    {
     "data": {
      "text/html": [
       "<div>\n",
       "<style scoped>\n",
       "    .dataframe tbody tr th:only-of-type {\n",
       "        vertical-align: middle;\n",
       "    }\n",
       "\n",
       "    .dataframe tbody tr th {\n",
       "        vertical-align: top;\n",
       "    }\n",
       "\n",
       "    .dataframe thead th {\n",
       "        text-align: right;\n",
       "    }\n",
       "</style>\n",
       "<table border=\"1\" class=\"dataframe\">\n",
       "  <thead>\n",
       "    <tr style=\"text-align: right;\">\n",
       "      <th></th>\n",
       "      <th>zip_code</th>\n",
       "      <th>median_income</th>\n",
       "      <th>population</th>\n",
       "    </tr>\n",
       "  </thead>\n",
       "  <tbody>\n",
       "  </tbody>\n",
       "</table>\n",
       "</div>"
      ],
      "text/plain": [
       "Empty DataFrame\n",
       "Columns: [zip_code, median_income, population]\n",
       "Index: []"
      ]
     },
     "execution_count": 45,
     "metadata": {},
     "output_type": "execute_result"
    }
   ],
   "source": [
    "zips_existing\n",
    "# Update Income and Population\n",
    "# Update Restaurants\n"
   ]
  },
  {
   "cell_type": "code",
   "execution_count": null,
   "metadata": {},
   "outputs": [],
   "source": [
    "# Update House Prices\n"
   ]
  }
 ],
 "metadata": {
  "kernelspec": {
   "display_name": "Python 3",
   "language": "python",
   "name": "python3"
  },
  "language_info": {
   "codemirror_mode": {
    "name": "ipython",
    "version": 3
   },
   "file_extension": ".py",
   "mimetype": "text/x-python",
   "name": "python",
   "nbconvert_exporter": "python",
   "pygments_lexer": "ipython3",
   "version": "3.7.3"
  }
 },
 "nbformat": 4,
 "nbformat_minor": 2
}
